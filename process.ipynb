{
 "cells": [
  {
   "cell_type": "code",
   "execution_count": 1,
   "metadata": {},
   "outputs": [],
   "source": [
    "import pandas as pd\n",
    "import ast\n",
    "import numpy as np\n",
    "import matplotlib.pyplot as plt"
   ]
  },
  {
   "cell_type": "code",
   "execution_count": 2,
   "metadata": {},
   "outputs": [],
   "source": [
    "path = \"./datasets/dataV.6.csv\"\n",
    "df = pd.read_csv(path)"
   ]
  },
  {
   "cell_type": "code",
   "execution_count": 6,
   "metadata": {},
   "outputs": [],
   "source": [
    "one_day_df = df[:148]\n",
    "\n",
    "# Get unique values for CountryName, Region, and Continent\n",
    "unique_countries = one_day_df['CountryName']"
   ]
  },
  {
   "cell_type": "code",
   "execution_count": 43,
   "metadata": {},
   "outputs": [
    {
     "name": "stdout",
     "output_type": "stream",
     "text": [
      "0           Mali\n",
      "1         Greece\n",
      "2        Hungary\n",
      "3         Bhutan\n",
      "4         Guyana\n",
      "         ...    \n",
      "143     Bulgaria\n",
      "144      Belarus\n",
      "145        China\n",
      "146    Guatemala\n",
      "147    Venezuela\n",
      "Name: CountryName, Length: 148, dtype: object\n",
      "(148,)\n"
     ]
    }
   ],
   "source": [
    "print(unique_countries)\n",
    "print(unique_countries.shape)"
   ]
  },
  {
   "cell_type": "code",
   "execution_count": 42,
   "metadata": {},
   "outputs": [
    {
     "name": "stdout",
     "output_type": "stream",
     "text": [
      "{\"Abyei\" : [\"South Sudan\",\"Sudan\"],\"Afghanistan\" : [\"Iran (Islamic Republic of)\", \"Turkmenistan\",\"Uzbekistan\",\"Tajikistan\",\"China\",\"Pakistan\"],\"Albania\" : [\"Greece\",\"The former Yugoslav Republic of Macedonia\",\"Montenegro\"],\"Algeria\" : [\"Morocco\",\"Tunisia\",\"Niger\",\"Mali\"],\"Angola\" : [\"Namibia\",\"Zambia\",\"Democratic Republic of the Congo\"],\"Argentina\" : [\"Uruguay\",\"Brazil\",\"Paraguay\",\"Bolivia\",\"Chile\"],\"Armenia\" : [\"Georgia\",\"Iran (Islamic Republic of)\",\"Azerbaijan\", \"Turkey\"],\"Arunachal Pradesh\" : [\"India\",\"Bhutan\",\"China\",\"Myanmar\"],\"Australia\" : [],\"Azerbaijan\" : [\"Russian Federation\",\"Georgia\",\"Armenia\",\"Iran (Islamic Republic of)\"],\"Bahamas\" : [],\"Bangladesh\" : [\"India\",\"Myanmar\"],\"Belarus\" : [\"Lithuania\",\"Latvia\",\"Russian Federation\",\"Ukraine\",\"Poland\"],\"Belize\" : [\"Guatemala\",\"Mexico\"],\"Benin\" : [\"Togo\",\"Burkina Faso\",\"Niger\",\"Nigeria\"],\"Bhutan\" : [\"India\",\"Arunachal Pradesh\",\"China\"],\"Bolivia\" : [\"Brazil\",\"Paraguay\",\"Argentina\",\"Chile\",\"Peru\"],\"Bosnia & Herzegovina\" : [\"Croatia\",\"Serbia\",\"Montenegro\"],\"Botswana\" : [\"Zimbabwe\",\"South Africa\",\"Namibia\"],\"Brazil\" : [\"French Guiana\",\"Suriname\",\"Guyana\",\"Venezuela\",\"Colombia\",\"Peru\",\"Bolivia\",\"Paraguay\",\"Uruguay\"],\"Bulgaria\" : [\"Romania\",\"Serbia\",\"The former Yugoslav Republic of Macedonia\",\"Greece\",\"Turkey\"],\"Burkina Faso\" : [\"Mali\",\"Niger\",\"Benin\",\"Togo\",\"Ghana\",\"Côte d'Ivoire\"],\"Burundi\" : [\"Rwanda\",'United Republic of Tanzania','Zambia','Democratic Republic of the Congo'],'Cambodia' : ['Thailand',\"Lao People's Democratic Republic\",'Vietnam'],'Cameroon' : ['Nigeria','Chad','Central African Republic','Congo','Gabon'],\"Canada\" : ['United States of America'],'Central African Republic' : ['Chad','Sudan','South Sudan','Democratic Republic of the Congo','Congo','Cameroon'],\"Chad\" : ['Niger','Sudan','Nigeria'],'Chile' : ['Peru'],'China' : [\"Democratic People's Republic of Korea\",'Mongolia','Kazakhstan','Kyrgyzstan','Tajikistan','Pakistan','India','Nepal','Myanmar',\"Lao People's Democratic Republic\",'Vietnam'],\"Colombia\" : ['Panama','Venezuela','Peru','Ecuador'],\"Comoros\" : [],'Congo' : ['Gabon','Democratic Republic of the Congo',],'Costa Rica' : ['Nicaragua','Panama'],'Croatia' : ['Slovenia','Hungary','Serbia'],'Cuba' : [],'Cyprus' : [],\"Côte d'Ivoire\" : ['Liberia','Guinea','Mali','Ghana'],\"Democratic People's Republic of Korea\" : ['Republic of Korea','Russian Federation'],'Democratic Republic of the Congo' : ['South Sudan','Uganda','Rwanda','Zambia','United Republic of Tanzania'],'Denmark' : ['Germany'],'Dominican Republic' : ['Haiti'],'Ecuador' : ['Peru'],'Egypt' : ['Sudan'],'El Salvador' : ['Guatemala','Honduras'],'Eritrea' : ['Ethiopia','Sudan'],'Estonia' : ['Latvia','Russian Federation'],'Ethiopia' : ['Somalia','Kenya','Uganda','South Sudan','Sudan'],'Swaziland' : ['Mozambique','South Africa'],'Fiji' : [],'France' : ['Spain','Italy','Germany'],'French Guiana' : ['Suriname'],'Gabon' : [],'Gambia' : ['Senegal'],'Georgia' : ['Turkey','Russian Federation'],'Germany' : ['Netherlands','Poland'],'Ghana' : ['Togo'],'Greece' : ['The former Yugoslav Republic of Macedonia','Turkey'],'Guatemala' : ['Honduras','Mexico'],'Guinea' : ['Mali','Liberia','Sierra Leone','Guinea-Bissau','Senegal','Mauritania'],'Guinea-Bissau' : [],'Guyana' : ['Suriname','Venezuela'],'Haiti' : [],'Honduras' : ['Nicaragua'],'Hungary' : ['Slovakia','Ukraine','Romania','Serbia','Croatia','Slovenia'],'Ilemi Triangle' : ['Ethiopia','South Sudan','Kenya'],'India' : ['Nepal','Pakistan','Myanmar'],'Indonesia' : [],'Iran (Islamic Republic of)' : ['Pakistan','Turkmenistan','Turkey','Iraq'],'Iraq' : ['Turkey','Syrian Arab Republic','Jordan','Saudi Arabia'],'Ireland' : [],'Italy' : ['Slovenia'],'Jamaica' : [],'Jammu-Kashmir' : ['Pakistan','India','China'],'Japan' : [],'Jordan' : ['Syrian Arab Republic','Saudi Arabia'],'Kazakhstan' : ['Russian Federation','Uzbekistan','Kyrgyzstan'],'Kenya' : ['Somalia','South Sudan','Uganda','United Republic of Tanzania'],'Kyrgyzstan' : ['Tajikistan','Uzbekistan'],\"Lao People's Democratic Republic\" : ['Myanmar','Thailand','Vietnam'],'Latvia' : ['Lithuania','Russian Federation'],'Lesotho' : ['South Africa'],'Liberia' : ['Sierra Leone'],'Lithuania' : ['Poland'],'Madagascar' : [],'Malawi' : ['United Republic of Tanzania','Zambia','Mozambique'],'Malaysia' : ['Thailand'],'Mali' : ['Niger','Senegal','Mauritania'],'Mauritania' : ['Senegal','Morocco'],'Mexico' : ['United States of America'],'Moldova, Republic of' : ['Ukraine','Romania'],'Mongolia' : ['Russian Federation'],'Montenegro' : ['Serbia'],'Morocco' : [],'Mozambique' : ['Zimbabwe','United Republic of Tanzania','Zambia'],'Myanmar' : ['Thailand'],'Namibia' : ['South Africa'],'Nepal' : [],'Netherlands' : [],'New Zealand' : [],'Nicaragua' : [],'Niger' : ['Nigeria'],'Nigeria' : [],'Pakistan' : [],'Panama' : [],'Papua New Guinea' : [],'Paraguay' : [],'Peru' : [],'Philippines' : [],'Poland' : ['Ukraine','Slovakia'],'Portugal' : ['Spain'],'Republic of Korea' : [],'Romania' : ['Serbia','Hungary','Ukraine'],'Russian Federation' : ['Ukraine'],'Rwanda' : ['Uganda','United Republic of Tanzania'],'Saudi Arabia' : ['Yemen'],'Senegal' : [],'Serbia' : [],'Sierra Leone' : [],'Slovakia' : ['Ukraine'],'Slovenia' : [],'Somalia' : [],'South Africa' : ['Zimbabwe'],'South Sudan' : ['Sudan','Uganda'],'Spain' : [],'Sri Lanka' : [],'Sudan' : [],'Suriname' : [],'Syrian Arab Republic' : ['Turkey'],'Tajikistan' : ['Uzbekistan'],'Thailand' : [],'The former Yugoslav Republic of Macedonia' : ['Serbia'],'Togo' : [],'Tunisia' : [],'Turkey' : [],'Turkmenistan' : ['Uzbekistan'],'U.K. of Great Britain and Northern Ireland' : ['Ireland'],'Uganda' : ['United Republic of Tanzania'],'Ukraine' : [],'United Republic of Tanzania' : ['Zambia'],'United States of America' : [],'Uruguay' : [],'Uzbekistan' : [],'Venezuela' : [],'Vietnam' : [],'Yemen' : [],'Zambia' : ['Zimbabwe'],'Zimbabwe' : [],}\n"
     ]
    }
   ],
   "source": [
    "adjacency_file = \"adjacency.txt\"\n",
    "txt = ''\n",
    "with open(adjacency_file, 'r') as file:\n",
    "    for line in file:\n",
    "        txt += line.strip()\n",
    "        \n",
    "print(txt[17:]) "
   ]
  },
  {
   "cell_type": "code",
   "execution_count": 41,
   "metadata": {},
   "outputs": [
    {
     "name": "stdout",
     "output_type": "stream",
     "text": [
      "<class 'dict'>\n"
     ]
    }
   ],
   "source": [
    "adjacency_dict = ast.literal_eval(txt[17:])\n",
    "print(type(adjacency_dict))"
   ]
  },
  {
   "cell_type": "code",
   "execution_count": 47,
   "metadata": {},
   "outputs": [
    {
     "name": "stdout",
     "output_type": "stream",
     "text": [
      "[0 0 0 0 0 0 0 0 0 0 1 0 0 0 0 0 0 1 0 0 0 0 0 0 0 0 0 0 1 0 0 0 0 0 0 0 0\n",
      " 0 0 0 0 0 0 0 0 0 0 0 0 0 0 0 0 0 0 0 0 0 0 0 0 0 0 1 0 0 0 0 0 0 0 0 0 0\n",
      " 0 0 0 0 0 0 0 0 0 0 0 0 0 0 0 0 0 0 0 0 0 0 0 1 0 0 0 0 0 0 0 0 0 0 0 0 0\n",
      " 0 0 0 0 0 0 0 0 0 0 0 0 0 0 0 0 1 0 0 0 0 0 0 0 0 0 0 0 0 0 0 0 0 0 0 0 0]\n"
     ]
    }
   ],
   "source": [
    "adjacency_matrix = np.zeros((len(unique_countries), len(unique_countries)), dtype=int)\n",
    "\n",
    "# Iterate over unique countries\n",
    "for i, country in enumerate(unique_countries):\n",
    "    # Check if the country is in the adjacency dictionary\n",
    "    if country in adjacency_dict:\n",
    "        # Iterate over its adjacency list\n",
    "        for neighbor in adjacency_dict[country]:\n",
    "            # Find the index of the neighbor in the unique_countries array\n",
    "            j = np.where(unique_countries == neighbor)[0]\n",
    "            # If the neighbor is found, mark the corresponding entry in the adjacency matrix\n",
    "            if len(j) > 0:\n",
    "                adjacency_matrix[i, j] = 1\n",
    "\n",
    "# Print the adjacency matrix\n",
    "print(adjacency_matrix[2])"
   ]
  },
  {
   "cell_type": "code",
   "execution_count": 49,
   "metadata": {},
   "outputs": [],
   "source": [
    "import csv\n",
    "\n",
    "# Define the file name\n",
    "csv_filename = \"./datasets/adjacency_matrix.csv\"\n",
    "\n",
    "# Write the adjacency matrix to a CSV file\n",
    "with open(csv_filename, 'w', newline='') as csvfile:\n",
    "    writer = csv.writer(csvfile)\n",
    "    # Write the header row with country names\n",
    "    writer.writerow(unique_countries)\n",
    "    # Write the adjacency matrix\n",
    "    writer.writerows(adjacency_matrix)\n"
   ]
  },
  {
   "cell_type": "code",
   "execution_count": 54,
   "metadata": {},
   "outputs": [
    {
     "name": "stdout",
     "output_type": "stream",
     "text": [
      "[[0 0 0 ... 0 0 0]\n",
      " [0 0 0 ... 0 0 0]\n",
      " [0 0 0 ... 0 0 0]\n",
      " ...\n",
      " [0 0 0 ... 0 0 0]\n",
      " [0 0 0 ... 0 0 0]\n",
      " [0 0 0 ... 0 0 0]]\n",
      "263\n",
      "510\n"
     ]
    }
   ],
   "source": [
    "n = len(unique_countries)\n",
    "#symetric matric\n",
    "adjacency_matrix_sym = np.zeros((n, n), dtype=int)\n",
    "\n",
    "for i in range(n):\n",
    "    for j in range(n):\n",
    "        if(adjacency_matrix[i,j] or adjacency_matrix[j,i]):\n",
    "            adjacency_matrix_sym[i,j] = 1\n",
    "        else:\n",
    "            adjacency_matrix_sym[i,j] = 0\n",
    "print(adjacency_matrix_sym)\n",
    "print(adjacency_matrix.sum())\n",
    "print(adjacency_matrix_sym.sum())"
   ]
  },
  {
   "cell_type": "code",
   "execution_count": 55,
   "metadata": {},
   "outputs": [],
   "source": [
    "import csv\n",
    "\n",
    "# Define the file name\n",
    "csv_filename = \"./datasets/adjacency_matrix_sym.csv\"\n",
    "\n",
    "# Write the adjacency matrix to a CSV file\n",
    "with open(csv_filename, 'w', newline='') as csvfile:\n",
    "    writer = csv.writer(csvfile)\n",
    "    # Write the header row with country names\n",
    "    writer.writerow(unique_countries)\n",
    "    # Write the adjacency matrix\n",
    "    writer.writerows(adjacency_matrix_sym)"
   ]
  },
  {
   "cell_type": "code",
   "execution_count": null,
   "metadata": {},
   "outputs": [],
   "source": []
  }
 ],
 "metadata": {
  "kernelspec": {
   "display_name": "base",
   "language": "python",
   "name": "python3"
  },
  "language_info": {
   "codemirror_mode": {
    "name": "ipython",
    "version": 3
   },
   "file_extension": ".py",
   "mimetype": "text/x-python",
   "name": "python",
   "nbconvert_exporter": "python",
   "pygments_lexer": "ipython3",
   "version": "3.11.5"
  }
 },
 "nbformat": 4,
 "nbformat_minor": 2
}
